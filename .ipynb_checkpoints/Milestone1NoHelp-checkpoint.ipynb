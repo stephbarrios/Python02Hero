{
 "cells": [
  {
   "cell_type": "markdown",
   "metadata": {},
   "source": [
    "# Milestone Project 1: Walk-through Steps Workbook\n",
    "\n",
    "Below is a set of steps for you to follow to try to create the Tic Tac Toe Milestone Project game!"
   ]
  },
  {
   "cell_type": "code",
   "execution_count": 1,
   "metadata": {
    "collapsed": true
   },
   "outputs": [],
   "source": [
    "# For using the same code in either Python 2 or 3\n",
    "from __future__ import print_function \n",
    "\n",
    "## Note: Python 2 users, use raw_input() to get player input. Python 3 users, use input()"
   ]
  },
  {
   "cell_type": "markdown",
   "metadata": {},
   "source": [
    "**Step 1: Write a function that can print out a board. Set up your board as a list, where each index 1-9 corresponds with a number on a number pad, so you get a 3 by 3 board representation.**"
   ]
  },
  {
   "cell_type": "code",
   "execution_count": 2,
   "metadata": {
    "collapsed": false
   },
   "outputs": [
    {
     "name": "stdout",
     "output_type": "stream",
     "text": [
      "  |   |\n",
      "X | X | X\n",
      "__|___|__\n",
      "  |   |\n",
      "O | O | O\n",
      "__|___|__\n",
      "  |   |\n",
      "X | O | X\n",
      "  |   |\n"
     ]
    }
   ],
   "source": [
    "from IPython.display import clear_output\n",
    "def display_board(board):\n",
    "    print('  |   |')\n",
    "    print(board[7] + ' | ' + board[8] + ' | '+ board[9])\n",
    "    print('__|___|__')\n",
    "    print('  |   |')\n",
    "    print(board[4] + ' | ' + board[5] + ' | '+ board[6])\n",
    "    print('__|___|__')\n",
    "    print('  |   |')\n",
    "    print(board[1] + ' | ' + board[2] + ' | '+ board[3])\n",
    "    print('  |   |')\n",
    "\n",
    "    \n",
    "test_board = ['#','X','O','X','O','O','O','X','X','X']\n",
    "         #'X','X','O','X','X']\n",
    "display_board(test_board)"
   ]
  },
  {
   "cell_type": "markdown",
   "metadata": {},
   "source": [
    "**Step 2: Write a function that can take in a player input and assign their marker as 'X' or 'O'. Think about using *while* loops to continually ask until you get a correct answer.**"
   ]
  },
  {
   "cell_type": "code",
   "execution_count": 3,
   "metadata": {
    "collapsed": false
   },
   "outputs": [],
   "source": [
    "def player_input():\n",
    "    marker = ''\n",
    "    while marker != 'X' and marker != 'O':\n",
    "         marker = input('Player 1, Do you want to be X or O?: ')\n",
    "    player1 = marker\n",
    "    \n",
    "    if player1 == 'X':\n",
    "        player2 = 'O'\n",
    "    else:\n",
    "        player2 = 'X'\n",
    "            \n",
    "    return(player1, player2)"
   ]
  },
  {
   "cell_type": "code",
   "execution_count": 4,
   "metadata": {
    "collapsed": false
   },
   "outputs": [
    {
     "name": "stdout",
     "output_type": "stream",
     "text": [
      "Player 1, Do you want to be X or O?: X\n"
     ]
    }
   ],
   "source": [
    "player1marker, player2marker = player_input()\n"
   ]
  },
  {
   "cell_type": "markdown",
   "metadata": {},
   "source": [
    "**Step 3: Write a function that takes, in the board list object, a marker ('X' or 'O'), and a desired position (number 1-9) and assigns it to the board.**"
   ]
  },
  {
   "cell_type": "code",
   "execution_count": 5,
   "metadata": {
    "collapsed": true
   },
   "outputs": [],
   "source": [
    "def place_marker(board, marker, position):\n",
    "    board[position] = marker"
   ]
  },
  {
   "cell_type": "markdown",
   "metadata": {},
   "source": [
    "**Step 4: Write a function that takes in a board and a mark (X or O) and then checks to see if that mark has won. **"
   ]
  },
  {
   "cell_type": "code",
   "execution_count": 6,
   "metadata": {
    "collapsed": true
   },
   "outputs": [],
   "source": [
    "def win_check(board,mark):\n",
    "    return (board[7]== mark and board[8]== mark and board[9] == mark or\n",
    "        board[4]== mark and board[5]== mark and board[6] == mark or\n",
    "        board[1]== mark and board[2]== mark and board[3] == mark or\n",
    "        board[1]== mark and board[4]== mark and board[7] == mark or\n",
    "        board[2]== mark and board[5]== mark and board[8] == mark or\n",
    "        board[3]== mark and board[6]== mark and board[9] == mark or\n",
    "        board[7]== mark and board[5]== mark and board[3] == mark or\n",
    "        board[1]== mark and board[5]== mark and board[9] == mark)\n",
    "        \n",
    "        "
   ]
  },
  {
   "cell_type": "markdown",
   "metadata": {},
   "source": [
    "**Step 5: Write a function that uses the random module to randomly decide which player goes first. You may want to lookup random.randint() Return a string of which player went first.**"
   ]
  },
  {
   "cell_type": "code",
   "execution_count": 7,
   "metadata": {
    "collapsed": true
   },
   "outputs": [],
   "source": [
    "import random\n",
    "def choose_first():\n",
    "    first = random.randint(0,1)\n",
    "    if first == 0:\n",
    "        return 'Player 1 goes first'\n",
    "    else:\n",
    "        return 'Player 2 goes first'"
   ]
  },
  {
   "cell_type": "markdown",
   "metadata": {},
   "source": [
    "**Step 6: Write a function that returns a boolean indicating whether a space on the board is freely available.**"
   ]
  },
  {
   "cell_type": "code",
   "execution_count": 8,
   "metadata": {
    "collapsed": true
   },
   "outputs": [],
   "source": [
    "def space_check(board, position):\n",
    "    return board[position] == ' '"
   ]
  },
  {
   "cell_type": "markdown",
   "metadata": {},
   "source": [
    "**Step 7: Write a function that checks if the board is full and returns a boolean value. True if full, False otherwise.**"
   ]
  },
  {
   "cell_type": "code",
   "execution_count": 9,
   "metadata": {
    "collapsed": true
   },
   "outputs": [],
   "source": [
    "def full_board_check(board):\n",
    "    #use range and not board\n",
    "    #range give list of #\n",
    "    #board is list of str\n",
    "    for spot in range(0,10):\n",
    "        if space_check(board, spot):\n",
    "            return False\n",
    "        return True"
   ]
  },
  {
   "cell_type": "markdown",
   "metadata": {},
   "source": [
    "**Step 8: Write a function that asks for a player's next position (as a number 1-9) and then uses the function from step 6 to check if its a free position. If it is, then return the position for later use. **"
   ]
  },
  {
   "cell_type": "code",
   "execution_count": 10,
   "metadata": {
    "collapsed": true
   },
   "outputs": [],
   "source": [
    "def player_choice(board):\n",
    "    position = ' '\n",
    "    while position not in '1,2,3,4,5,6,7,8,9'.split(',') or not space_check(board, int(position)):\n",
    "        \n",
    "        position = input('Choose your next position (1-9) ')\n",
    "    return int(position)"
   ]
  },
  {
   "cell_type": "markdown",
   "metadata": {},
   "source": [
    "**Step 9: Write a function that asks the player if they want to play again and returns a boolean True if they do want to play again.**"
   ]
  },
  {
   "cell_type": "code",
   "execution_count": null,
   "metadata": {
    "collapsed": true
   },
   "outputs": [],
   "source": [
    "def replay():\n",
    "    rematch = input('Do you want to play again? (y/n): ')\n",
    "    if rematch == 'y':\n",
    "        return True\n",
    "    return False"
   ]
  },
  {
   "cell_type": "markdown",
   "metadata": {
    "collapsed": true
   },
   "source": [
    "**Step 10: Here comes the hard part! Use while loops and the functions you've made to run the game!**"
   ]
  },
  {
   "cell_type": "code",
   "execution_count": null,
   "metadata": {
    "collapsed": false
   },
   "outputs": [
    {
     "name": "stdout",
     "output_type": "stream",
     "text": [
      "Welcome to Tic Tac Toe!\n",
      "Player 1, Do you want to be X or O?: X\n",
      "Player 1 goes first will go first.\n",
      "  |   |\n",
      "  |   |  \n",
      "__|___|__\n",
      "  |   |\n",
      "  |   |  \n",
      "__|___|__\n",
      "  |   |\n",
      "  |   |  \n",
      "  |   |\n",
      "Choose your next position (1-9) 2\n",
      "  |   |\n",
      "  |   |  \n",
      "__|___|__\n",
      "  |   |\n",
      "  |   |  \n",
      "__|___|__\n",
      "  |   |\n",
      "  | O |  \n",
      "  |   |\n",
      "Choose your next position (1-9) 3\n",
      "  |   |\n",
      "  |   |  \n",
      "__|___|__\n",
      "  |   |\n",
      "  |   |  \n",
      "__|___|__\n",
      "  |   |\n",
      "  | O | X\n",
      "  |   |\n",
      "Choose your next position (1-9) 4\n",
      "  |   |\n",
      "  |   |  \n",
      "__|___|__\n",
      "  |   |\n",
      "O |   |  \n",
      "__|___|__\n",
      "  |   |\n",
      "  | O | X\n",
      "  |   |\n",
      "Choose your next position (1-9) 5\n",
      "  |   |\n",
      "  |   |  \n",
      "__|___|__\n",
      "  |   |\n",
      "O | X |  \n",
      "__|___|__\n",
      "  |   |\n",
      "  | O | X\n",
      "  |   |\n",
      "Choose your next position (1-9) 6\n",
      "  |   |\n",
      "  |   |  \n",
      "__|___|__\n",
      "  |   |\n",
      "O | X | O\n",
      "__|___|__\n",
      "  |   |\n",
      "  | O | X\n",
      "  |   |\n",
      "Choose your next position (1-9) 7\n",
      "  |   |\n",
      "X |   |  \n",
      "__|___|__\n",
      "  |   |\n",
      "O | X | O\n",
      "__|___|__\n",
      "  |   |\n",
      "  | O | X\n",
      "  |   |\n",
      "Congrats! You won the game, Player 1 :)\n",
      "Do you want to play again? (y/n): y\n",
      "Player 1, Do you want to be X or O?: 1\n",
      "Player 1, Do you want to be X or O?: X\n",
      "Player 2 goes first will go first.\n",
      "  |   |\n",
      "  |   |  \n",
      "__|___|__\n",
      "  |   |\n",
      "  |   |  \n",
      "__|___|__\n",
      "  |   |\n",
      "  |   |  \n",
      "  |   |\n",
      "Choose your next position (1-9) 2\n",
      "  |   |\n",
      "  |   |  \n",
      "__|___|__\n",
      "  |   |\n",
      "  |   |  \n",
      "__|___|__\n",
      "  |   |\n",
      "  | O |  \n",
      "  |   |\n",
      "Choose your next position (1-9) 1\n",
      "  |   |\n",
      "  |   |  \n",
      "__|___|__\n",
      "  |   |\n",
      "  |   |  \n",
      "__|___|__\n",
      "  |   |\n",
      "X | O |  \n",
      "  |   |\n",
      "Choose your next position (1-9) 4\n",
      "  |   |\n",
      "  |   |  \n",
      "__|___|__\n",
      "  |   |\n",
      "O |   |  \n",
      "__|___|__\n",
      "  |   |\n",
      "X | O |  \n",
      "  |   |\n",
      "Choose your next position (1-9) 5\n",
      "  |   |\n",
      "  |   |  \n",
      "__|___|__\n",
      "  |   |\n",
      "O | X |  \n",
      "__|___|__\n",
      "  |   |\n",
      "X | O |  \n",
      "  |   |\n",
      "Choose your next position (1-9) 6\n",
      "  |   |\n",
      "  |   |  \n",
      "__|___|__\n",
      "  |   |\n",
      "O | X | O\n",
      "__|___|__\n",
      "  |   |\n",
      "X | O |  \n",
      "  |   |\n",
      "Choose your next position (1-9) 9\n",
      "  |   |\n",
      "  |   | X\n",
      "__|___|__\n",
      "  |   |\n",
      "O | X | O\n",
      "__|___|__\n",
      "  |   |\n",
      "X | O |  \n",
      "  |   |\n",
      "Congrats! You won the game, Player 1 :)\n",
      "Do you want to play again? (y/n): y\n",
      "Player 1, Do you want to be X or O?: X\n",
      "Player 1 goes first will go first.\n",
      "  |   |\n",
      "  |   |  \n",
      "__|___|__\n",
      "  |   |\n",
      "  |   |  \n",
      "__|___|__\n",
      "  |   |\n",
      "  |   |  \n",
      "  |   |\n",
      "Choose your next position (1-9) 1\n",
      "  |   |\n",
      "  |   |  \n",
      "__|___|__\n",
      "  |   |\n",
      "  |   |  \n",
      "__|___|__\n",
      "  |   |\n",
      "O |   |  \n",
      "  |   |\n",
      "Choose your next position (1-9) 3\n",
      "  |   |\n",
      "  |   |  \n",
      "__|___|__\n",
      "  |   |\n",
      "  |   |  \n",
      "__|___|__\n",
      "  |   |\n",
      "O |   | X\n",
      "  |   |\n",
      "Choose your next position (1-9) 4\n",
      "  |   |\n",
      "  |   |  \n",
      "__|___|__\n",
      "  |   |\n",
      "O |   |  \n",
      "__|___|__\n",
      "  |   |\n",
      "O |   | X\n",
      "  |   |\n",
      "Choose your next position (1-9) 6\n",
      "  |   |\n",
      "  |   |  \n",
      "__|___|__\n",
      "  |   |\n",
      "O |   | X\n",
      "__|___|__\n",
      "  |   |\n",
      "O |   | X\n",
      "  |   |\n",
      "Choose your next position (1-9) 7\n",
      "  |   |\n",
      "O |   |  \n",
      "__|___|__\n",
      "  |   |\n",
      "O |   | X\n",
      "__|___|__\n",
      "  |   |\n",
      "O |   | X\n",
      "  |   |\n",
      "Congrats! You won the game, Player 2 :)\n",
      "Do you want to play again? (y/n): y\n",
      "Player 1, Do you want to be X or O?: O\n",
      "Player 2 goes first will go first.\n",
      "  |   |\n",
      "  |   |  \n",
      "__|___|__\n",
      "  |   |\n",
      "  |   |  \n",
      "__|___|__\n",
      "  |   |\n",
      "  |   |  \n",
      "  |   |\n"
     ]
    }
   ],
   "source": [
    "print('Welcome to Tic Tac Toe!')\n",
    "\n",
    "while True:\n",
    "    #Reset the board\n",
    "    theBoard = [' '] * 10\n",
    "    player1_marker, player2_marker = player_input()\n",
    "    turn = choose_first()\n",
    "    print(turn + ' will go first.')\n",
    "    game_on = True\n",
    "\n",
    "    while game_on:\n",
    "        if turn == 'Player 1':\n",
    "            #player1's turns\n",
    "            display_board(theBoard)\n",
    "            position = player_choice(theBoard)\n",
    "            place_marker(theBoard, player1_marker, position)\n",
    "            if win_check(theBoard, player1_marker):\n",
    "                display_board(theBoard)\n",
    "                print('Congrats! You won the game, Player 1 :)')\n",
    "                game_on = False\n",
    "            else:\n",
    "                if full_board_check(theBoard):\n",
    "                    display_board(theBoard)\n",
    "                    print('ITS A DRAW!')\n",
    "                    break\n",
    "                else:\n",
    "                    turn = 'Player 2'\n",
    "        \n",
    "        else:\n",
    "            #Player2's turn\n",
    "            display_board(theBoard)\n",
    "            position = player_choice(theBoard)\n",
    "            place_marker(theBoard, player2_marker, position)\n",
    "            if win_check(theBoard, player2_marker):\n",
    "                display_board(theBoard)\n",
    "                print('Congrats! You won the game, Player 2 :)')\n",
    "                game_on = False\n",
    "            else:\n",
    "                if full_board_check(theBoard):\n",
    "                    display_board(theBoard)\n",
    "                    print('ITS A DRAW!')\n",
    "                    break\n",
    "                else:\n",
    "                    turn = 'Player 1'\n",
    "    if not replay():\n",
    "        break\n",
    "                        \n",
    "\n",
    "#while True:\n",
    "    # Set the game up here\n",
    "    #pass\n",
    "\n",
    "    #while game_on:\n",
    "        #Player 1 Turn\n",
    "        \n",
    "        \n",
    "        # Player2's turn.\n",
    "            \n",
    "            #pass\n",
    "\n",
    "    #if not replay():\n",
    "        #break"
   ]
  },
  {
   "cell_type": "markdown",
   "metadata": {
    "collapsed": true
   },
   "source": [
    "## Good Job!"
   ]
  }
 ],
 "metadata": {
  "kernelspec": {
   "display_name": "Python 3",
   "language": "python",
   "name": "python3"
  },
  "language_info": {
   "codemirror_mode": {
    "name": "ipython",
    "version": 3
   },
   "file_extension": ".py",
   "mimetype": "text/x-python",
   "name": "python",
   "nbconvert_exporter": "python",
   "pygments_lexer": "ipython3",
   "version": "3.6.0"
  }
 },
 "nbformat": 4,
 "nbformat_minor": 0
}
