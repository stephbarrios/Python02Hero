{
 "cells": [
  {
   "cell_type": "markdown",
   "metadata": {},
   "source": [
    "# Milestone Project 1: Walk-through Steps Workbook\n",
    "\n",
    "Below is a set of steps for you to follow to try to create the Tic Tac Toe Milestone Project game!"
   ]
  },
  {
   "cell_type": "code",
   "execution_count": 1,
   "metadata": {
    "collapsed": true
   },
   "outputs": [],
   "source": [
    "# For using the same code in either Python 2 or 3\n",
    "from __future__ import print_function \n",
    "\n",
    "## Note: Python 2 users, use raw_input() to get player input. Python 3 users, use input()"
   ]
  },
  {
   "cell_type": "markdown",
   "metadata": {},
   "source": [
    "**Step 1: Write a function that can print out a board. Set up your board as a list, where each index 1-9 corresponds with a number on a number pad, so you get a 3 by 3 board representation.**"
   ]
  },
  {
   "cell_type": "code",
   "execution_count": 2,
   "metadata": {
    "collapsed": false
   },
   "outputs": [
    {
     "name": "stdout",
     "output_type": "stream",
     "text": [
      "  |   |\n",
      "X | X | X\n",
      "__|___|__\n",
      "  |   |\n",
      "X | X | X\n",
      "__|___|__\n",
      "  |   |\n",
      "X | X | X\n",
      "  |   |\n"
     ]
    }
   ],
   "source": [
    "from IPython.display import clear_output\n",
    "def display_board(board):\n",
    "    print('  |   |')\n",
    "    print(board[7] + ' | ' + board[8] + ' | ' + board[9])\n",
    "    print('__|___|__')\n",
    "    print('  |   |')\n",
    "    print(board[4] + ' | ' + board[5] + ' | ' + board[6])\n",
    "    print('__|___|__')\n",
    "    print('  |   |')\n",
    "    print(board[1] + ' | ' + board[2] + ' | ' + board[3])\n",
    "    print('  |   |')\n",
    "    \n",
    "\n",
    "testBoard = ['#','X','X','X','X','X','X','X','X','X']\n",
    "display_board(testBoard)\n"
   ]
  },
  {
   "cell_type": "markdown",
   "metadata": {},
   "source": [
    "**Step 2: Write a function that can take in a player input and assign their marker as 'X' or 'O'. Think about using *while* loops to continually ask until you get a correct answer.**"
   ]
  },
  {
   "cell_type": "code",
   "execution_count": 3,
   "metadata": {
    "collapsed": false
   },
   "outputs": [],
   "source": [
    "def player_input():\n",
    "    marker = ''\n",
    "    while marker != 'X' and marker != 'O':\n",
    "        marker = input('Player 1, Do you want to be X or O?:').upper()\n",
    "    \n",
    "    player1marker = marker\n",
    "    if player1marker == 'X':\n",
    "        player2marker = 'O'\n",
    "    else:\n",
    "        player2marker = 'X'\n",
    "        \n",
    "    return (player1marker, player2marker)"
   ]
  },
  {
   "cell_type": "code",
   "execution_count": 4,
   "metadata": {
    "collapsed": false
   },
   "outputs": [
    {
     "name": "stdout",
     "output_type": "stream",
     "text": [
      "Player 1, Do you want to be X or O?:x\n"
     ]
    },
    {
     "data": {
      "text/plain": [
       "('X', 'O')"
      ]
     },
     "execution_count": 4,
     "metadata": {},
     "output_type": "execute_result"
    }
   ],
   "source": [
    "player_input()"
   ]
  },
  {
   "cell_type": "markdown",
   "metadata": {},
   "source": [
    "**Step 3: Write a function that takes, in the board list object, a marker ('X' or 'O'), and a desired position (number 1-9) and assigns it to the board.**"
   ]
  },
  {
   "cell_type": "code",
   "execution_count": 5,
   "metadata": {
    "collapsed": true
   },
   "outputs": [],
   "source": [
    "def place_marker(board, marker, position):\n",
    "    board[position] = marker"
   ]
  },
  {
   "cell_type": "markdown",
   "metadata": {},
   "source": [
    "**Step 4: Write a function that takes in a board and a mark (X or O) and then checks to see if that mark has won. **"
   ]
  },
  {
   "cell_type": "code",
   "execution_count": 6,
   "metadata": {
    "collapsed": false
   },
   "outputs": [
    {
     "name": "stdout",
     "output_type": "stream",
     "text": [
      "  |   |\n",
      "O | X | X\n",
      "__|___|__\n",
      "  |   |\n",
      "O | O | O\n",
      "__|___|__\n",
      "  |   |\n",
      "O | O | X\n",
      "  |   |\n"
     ]
    },
    {
     "data": {
      "text/plain": [
       "True"
      ]
     },
     "execution_count": 6,
     "metadata": {},
     "output_type": "execute_result"
    }
   ],
   "source": [
    "def win_check(board,mark):\n",
    "    return(board[7] == mark and board[8] == mark and board[9] == mark or\n",
    "          board[4] == mark and board[5] == mark and board[6] == mark or\n",
    "           board[1] == mark and board[2] == mark and board[3] == mark or\n",
    "           board[1] == mark and board[4] == mark and board[7] == mark or\n",
    "           board[2] == mark and board[5] == mark and board[8] == mark or\n",
    "           board[3] == mark and board[6] == mark and board[9] == mark or\n",
    "           board[7] == mark and board[5] == mark and board[3] == mark or\n",
    "           board[1] == mark and board[5] == mark and board[9] == mark)\n",
    "\n",
    "testBoard = ['#','O','O','X','O','O','O','O','X','X']\n",
    "display_board(testBoard)\n",
    "win_check(testBoard, 'O')\n"
   ]
  },
  {
   "cell_type": "markdown",
   "metadata": {},
   "source": [
    "**Step 5: Write a function that uses the random module to randomly decide which player goes first. You may want to lookup random.randint() Return a string of which player went first.**"
   ]
  },
  {
   "cell_type": "code",
   "execution_count": 7,
   "metadata": {
    "collapsed": false
   },
   "outputs": [
    {
     "data": {
      "text/plain": [
       "'Player 2 goes first'"
      ]
     },
     "execution_count": 7,
     "metadata": {},
     "output_type": "execute_result"
    }
   ],
   "source": [
    "import random\n",
    "def choose_first():\n",
    "    flip = random.randint(0,1)\n",
    "    if flip == 0:\n",
    "        return 'Player 1 goes first'\n",
    "    else:\n",
    "        return 'Player 2 goes first'\n",
    "\n",
    "choose_first()"
   ]
  },
  {
   "cell_type": "markdown",
   "metadata": {},
   "source": [
    "**Step 6: Write a function that returns a boolean indicating whether a space on the board is freely available.**"
   ]
  },
  {
   "cell_type": "code",
   "execution_count": 8,
   "metadata": {
    "collapsed": false
   },
   "outputs": [
    {
     "name": "stdout",
     "output_type": "stream",
     "text": [
      "  |   |\n",
      "  |   | X\n",
      "__|___|__\n",
      "  |   |\n",
      "O | O | O\n",
      "__|___|__\n",
      "  |   |\n",
      "O | O | X\n",
      "  |   |\n"
     ]
    },
    {
     "data": {
      "text/plain": [
       "False"
      ]
     },
     "execution_count": 8,
     "metadata": {},
     "output_type": "execute_result"
    }
   ],
   "source": [
    "def space_check(board, position):\n",
    "    if board[position] == ' ':\n",
    "        return True\n",
    "    return False\n",
    "\n",
    "testBoard = ['#','O','O','X','O','O','O',' ',' ','X']\n",
    "display_board(testBoard)\n",
    "space_check(testBoard, 9)"
   ]
  },
  {
   "cell_type": "markdown",
   "metadata": {},
   "source": [
    "**Step 7: Write a function that checks if the board is full and returns a boolean value. True if full, False otherwise.**"
   ]
  },
  {
   "cell_type": "code",
   "execution_count": 9,
   "metadata": {
    "collapsed": false
   },
   "outputs": [
    {
     "name": "stdout",
     "output_type": "stream",
     "text": [
      "  |   |\n",
      "X | X | X\n",
      "__|___|__\n",
      "  |   |\n",
      "O | O | O\n",
      "__|___|__\n",
      "  |   |\n",
      "O | O | X\n",
      "  |   |\n"
     ]
    },
    {
     "data": {
      "text/plain": [
       "True"
      ]
     },
     "execution_count": 9,
     "metadata": {},
     "output_type": "execute_result"
    }
   ],
   "source": [
    "#need to work on the logic here, maybe above too\n",
    "\n",
    "def full_board_check(board):\n",
    "    for spot in range(1,10):\n",
    "        if space_check(board, spot):\n",
    "            return False\n",
    "    return True\n",
    "\n",
    "testBoard = ['#','O','O','X','O','O','O','X','X','X']\n",
    "display_board(testBoard)    \n",
    "full_board_check(testBoard)"
   ]
  },
  {
   "cell_type": "markdown",
   "metadata": {},
   "source": [
    "**Step 8: Write a function that asks for a player's next position (as a number 1-9) and then uses the function from step 6 to check if its a free position. If it is, then return the position for later use. **"
   ]
  },
  {
   "cell_type": "code",
   "execution_count": 10,
   "metadata": {
    "collapsed": false
   },
   "outputs": [
    {
     "name": "stdout",
     "output_type": "stream",
     "text": [
      "  |   |\n",
      "  | X | X\n",
      "__|___|__\n",
      "  |   |\n",
      "  |   | O\n",
      "__|___|__\n",
      "  |   |\n",
      "O | O | X\n",
      "  |   |\n",
      "Pick your next position (1-9): 2\n",
      "Pick your next position (1-9): 4\n"
     ]
    },
    {
     "data": {
      "text/plain": [
       "4"
      ]
     },
     "execution_count": 10,
     "metadata": {},
     "output_type": "execute_result"
    }
   ],
   "source": [
    "def player_choice(board):\n",
    "    choice = ' '\n",
    "    while choice not in list(range(1,10)) or not space_check(board, int(choice)):\n",
    "        choice = int(input('Pick your next position (1-9): '))\n",
    "    return (choice)\n",
    "\n",
    "testBoard = ['#','O','O','X',' ',' ','O',' ','X','X'] \n",
    "display_board(testBoard)\n",
    "player_choice(testBoard)"
   ]
  },
  {
   "cell_type": "markdown",
   "metadata": {},
   "source": [
    "**Step 9: Write a function that asks the player if they want to play again and returns a boolean True if they do want to play again.**"
   ]
  },
  {
   "cell_type": "code",
   "execution_count": 11,
   "metadata": {
    "collapsed": false
   },
   "outputs": [
    {
     "name": "stdout",
     "output_type": "stream",
     "text": [
      "Do you want to play again? (y/n): y\n"
     ]
    },
    {
     "data": {
      "text/plain": [
       "True"
      ]
     },
     "execution_count": 11,
     "metadata": {},
     "output_type": "execute_result"
    }
   ],
   "source": [
    "def replay():\n",
    "    correct_input = None\n",
    "    while correct_input != 'y' or correct_input != 'n':\n",
    "        correct_input = input('Do you want to play again? (y/n): ')\n",
    "        choice = correct_input\n",
    "        if choice.lower() == 'y':\n",
    "            return True\n",
    "        elif choice.lower() == 'n':\n",
    "            return False\n",
    "\n",
    "replay()"
   ]
  },
  {
   "cell_type": "markdown",
   "metadata": {
    "collapsed": true
   },
   "source": [
    "**Step 10: Here comes the hard part! Use while loops and the functions you've made to run the game!**"
   ]
  },
  {
   "cell_type": "code",
   "execution_count": 12,
   "metadata": {
    "collapsed": false
   },
   "outputs": [
    {
     "name": "stdout",
     "output_type": "stream",
     "text": [
      "Welcome to Tic Tac Toe!\n",
      "Player 1, Do you want to be X or O?:X\n",
      "Player 1 goes first will go first\n",
      "Ready to play? y or n?y\n",
      "  |   |\n",
      "  |   |  \n",
      "__|___|__\n",
      "  |   |\n",
      "  |   |  \n",
      "__|___|__\n",
      "  |   |\n",
      "  |   |  \n",
      "  |   |\n",
      "Pick your next position (1-9): 1\n",
      "  |   |\n",
      "  |   |  \n",
      "__|___|__\n",
      "  |   |\n",
      "  |   |  \n",
      "__|___|__\n",
      "  |   |\n",
      "O |   |  \n",
      "  |   |\n",
      "Pick your next position (1-9): 2\n",
      "  |   |\n",
      "  |   |  \n",
      "__|___|__\n",
      "  |   |\n",
      "  |   |  \n",
      "__|___|__\n",
      "  |   |\n",
      "O | X |  \n",
      "  |   |\n",
      "Pick your next position (1-9): 4\n",
      "  |   |\n",
      "  |   |  \n",
      "__|___|__\n",
      "  |   |\n",
      "O |   |  \n",
      "__|___|__\n",
      "  |   |\n",
      "O | X |  \n",
      "  |   |\n",
      "Pick your next position (1-9): 7\n",
      "  |   |\n",
      "X |   |  \n",
      "__|___|__\n",
      "  |   |\n",
      "O |   |  \n",
      "__|___|__\n",
      "  |   |\n",
      "O | X |  \n",
      "  |   |\n",
      "Pick your next position (1-9): 3\n",
      "  |   |\n",
      "X |   |  \n",
      "__|___|__\n",
      "  |   |\n",
      "O |   |  \n",
      "__|___|__\n",
      "  |   |\n",
      "O | X | O\n",
      "  |   |\n",
      "Pick your next position (1-9): 5\n",
      "  |   |\n",
      "X |   |  \n",
      "__|___|__\n",
      "  |   |\n",
      "O | X |  \n",
      "__|___|__\n",
      "  |   |\n",
      "O | X | O\n",
      "  |   |\n",
      "Pick your next position (1-9): 8\n",
      "  |   |\n",
      "X | O |  \n",
      "__|___|__\n",
      "  |   |\n",
      "O | X |  \n",
      "__|___|__\n",
      "  |   |\n",
      "O | X | O\n",
      "  |   |\n",
      "Pick your next position (1-9): 6\n",
      "  |   |\n",
      "X | O |  \n",
      "__|___|__\n",
      "  |   |\n",
      "O | X | X\n",
      "__|___|__\n",
      "  |   |\n",
      "O | X | O\n",
      "  |   |\n",
      "Pick your next position (1-9): 9\n",
      "  |   |\n",
      "X | O | O\n",
      "__|___|__\n",
      "  |   |\n",
      "O | X | X\n",
      "__|___|__\n",
      "  |   |\n",
      "O | X | O\n",
      "  |   |\n",
      "ITS A TIE!\n",
      "Do you want to play again? (y/n): YES\n",
      "Do you want to play again? (y/n): Y\n",
      "Player 1, Do you want to be X or O?:o\n",
      "Player 2 goes first will go first\n",
      "Ready to play? y or n?n\n",
      "Do you want to play again? (y/n): n\n"
     ]
    }
   ],
   "source": [
    "#WHILE LOOP TO KEEP GAME RUNNING\n",
    "print('Welcome to Tic Tac Toe!')\n",
    "\n",
    "while True:\n",
    "    #PLAY THE GAME! :)\n",
    "    \n",
    "    ## Set the game up (board, whos first, and choose markers:)\n",
    "    \n",
    "    #the board is a list of empty strings bc board is empty\n",
    "    the_board = [' '] *10\n",
    "    #player markers are based on our 'Step 2'\n",
    "    player1_marker, player2_marker = player_input()\n",
    "    #randomly decides who is first and prints player who goes first\n",
    "    turn = choose_first()\n",
    "    print(turn + ' will go first')\n",
    "    \n",
    "    #about to initiate whether they want to play or not\n",
    "    play_game = input('Ready to play? y or n?')\n",
    "    if play_game == 'y':\n",
    "        game_on = True\n",
    "    else:\n",
    "        game_on = False\n",
    "    \n",
    "    ## STARTS GAME PLAY:\n",
    "    \n",
    "    while game_on:\n",
    "    ### P1 STARTS\n",
    "        if turn == 'Player 1':\n",
    "            \n",
    "            #Show the board\n",
    "            display_board(the_board)\n",
    "            #Choose a position\n",
    "            position = player_choice(the_board)\n",
    "            #Place the marker on the position\n",
    "            place_marker(the_board, player1_marker, position)\n",
    "            \n",
    "            \n",
    "            #Check if won\n",
    "            if win_check(the_board, player1_marker):\n",
    "                display_board(the_board)\n",
    "                print('PLAYER 1 WON!')\n",
    "                game_on = False\n",
    "            #Or if tie\n",
    "            else:\n",
    "                if full_board_check(the_board):\n",
    "                    display_board(the_board)\n",
    "                    print('ITS A TIE!')\n",
    "                    game_on = False\n",
    "                else:\n",
    "                    turn = 'Player 2'\n",
    "            #No tie and no win? Then p2 plays\n",
    "    ### P1 ENDS\n",
    "    \n",
    "        else:\n",
    "    ### P2 STARTS\n",
    "            \n",
    "            #Show the board\n",
    "            display_board(the_board)\n",
    "            #Choose a position\n",
    "            position = player_choice(the_board)\n",
    "            #Place the marker on the position\n",
    "            place_marker(the_board, player2_marker, position)\n",
    "            \n",
    "            \n",
    "            #Check if won\n",
    "            if win_check(the_board, player2_marker):\n",
    "                display_board(the_board)\n",
    "                print('PLAYER 2 WON!')\n",
    "                game_on = False\n",
    "            #Or if tie\n",
    "            else:\n",
    "                if full_board_check(the_board):\n",
    "                    display_board(the_board)\n",
    "                    print('ITS A TIE!')\n",
    "                    game_on = False\n",
    "                else:\n",
    "                    turn = 'Player 1'\n",
    "    \n",
    "    ### P2 ENDS\n",
    "\n",
    "    \n",
    "    \n",
    "    \n",
    "    \n",
    "    \n",
    "    \n",
    "    \n",
    "    \n",
    "    if not replay():\n",
    "        break\n",
    "    \n",
    "    #BREAK OUT OF WHILE LOOP ON REPLAY"
   ]
  },
  {
   "cell_type": "markdown",
   "metadata": {
    "collapsed": true
   },
   "source": [
    "## Good Job!"
   ]
  },
  {
   "cell_type": "code",
   "execution_count": null,
   "metadata": {
    "collapsed": true
   },
   "outputs": [],
   "source": []
  }
 ],
 "metadata": {
  "kernelspec": {
   "display_name": "Python 3",
   "language": "python",
   "name": "python3"
  },
  "language_info": {
   "codemirror_mode": {
    "name": "ipython",
    "version": 3
   },
   "file_extension": ".py",
   "mimetype": "text/x-python",
   "name": "python",
   "nbconvert_exporter": "python",
   "pygments_lexer": "ipython3",
   "version": "3.6.0"
  }
 },
 "nbformat": 4,
 "nbformat_minor": 0
}
