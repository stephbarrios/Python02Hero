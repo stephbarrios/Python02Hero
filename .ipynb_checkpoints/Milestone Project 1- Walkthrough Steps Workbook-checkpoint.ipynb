{
 "cells": [
  {
   "cell_type": "markdown",
   "metadata": {},
   "source": [
    "# Milestone Project 1: Walk-through Steps Workbook\n",
    "\n",
    "Below is a set of steps for you to follow to try to create the Tic Tac Toe Milestone Project game!"
   ]
  },
  {
   "cell_type": "code",
   "execution_count": 1,
   "metadata": {
    "collapsed": true
   },
   "outputs": [],
   "source": [
    "# For using the same code in either Python 2 or 3\n",
    "from __future__ import print_function \n",
    "\n",
    "## Note: Python 2 users, use raw_input() to get player input. Python 3 users, use input()"
   ]
  },
  {
   "cell_type": "markdown",
   "metadata": {},
   "source": [
    "**Step 1: Write a function that can print out a board. Set up your board as a list, where each index 1-9 corresponds with a number on a number pad, so you get a 3 by 3 board representation.**"
   ]
  },
  {
   "cell_type": "code",
   "execution_count": 2,
   "metadata": {
    "collapsed": false
   },
   "outputs": [],
   "source": [
    "#Creates the board\n",
    "\n",
    "from IPython.display import clear_output\n",
    "def display_board(board):\n",
    "    print('   |   |')\n",
    "    print(' ' + board[7] + ' | ' + board[8] + ' | ' + board[9])\n",
    "    print('___|___|___')\n",
    "    print('   |   | ')\n",
    "    print(' ' + board[4] + ' | ' + board[5] + ' | ' + board[6])\n",
    "    print('___|___|___')\n",
    "    print('   |   |')\n",
    "    print(' ' + board[1] + ' | ' + board[2] + ' | ' + board[3])\n",
    "    print('   |   |')"
   ]
  },
  {
   "cell_type": "code",
   "execution_count": 3,
   "metadata": {
    "collapsed": false
   },
   "outputs": [
    {
     "name": "stdout",
     "output_type": "stream",
     "text": [
      "   |   |\n",
      " X | O | X\n",
      "___|___|___\n",
      "   |   | \n",
      " X | X | O\n",
      "___|___|___\n",
      "   |   |\n",
      " X | X | X\n",
      "   |   |\n"
     ]
    }
   ],
   "source": [
    "test_board = ['#','X','X','X','X','X','O','X','O','X']\n",
    "display_board(test_board)"
   ]
  },
  {
   "cell_type": "markdown",
   "metadata": {},
   "source": [
    "**Step 2: Write a function that can take in a player input and assign their marker as 'X' or 'O'. Think about using *while* loops to continually ask until you get a correct answer.**"
   ]
  },
  {
   "cell_type": "code",
   "execution_count": 4,
   "metadata": {
    "collapsed": false
   },
   "outputs": [],
   "source": [
    "#Now we are letting player1 choose whether they want to be X or O\n",
    "\n",
    "def player_input():\n",
    "    marker = ''\n",
    "    while marker != 'X' and marker != 'O':\n",
    "        marker = input('Player 1, choose X or O: ')\n",
    "    \n",
    "    player1 = marker\n",
    "    \n",
    "    if player1 == 'X':\n",
    "        player2 = 'O'\n",
    "    else:\n",
    "        player2 = 'X'\n",
    "    \n",
    "    return(player1, player2)\n"
   ]
  },
  {
   "cell_type": "code",
   "execution_count": 5,
   "metadata": {
    "collapsed": false
   },
   "outputs": [
    {
     "name": "stdout",
     "output_type": "stream",
     "text": [
      "Player 1, choose X or O: X\n"
     ]
    }
   ],
   "source": [
    "#saving these into tuple in case we want to access later\n",
    "player1_marker, player2_marker = player_input()"
   ]
  },
  {
   "cell_type": "code",
   "execution_count": 6,
   "metadata": {
    "collapsed": false
   },
   "outputs": [
    {
     "data": {
      "text/plain": [
       "'O'"
      ]
     },
     "execution_count": 6,
     "metadata": {},
     "output_type": "execute_result"
    }
   ],
   "source": [
    "player2_marker"
   ]
  },
  {
   "cell_type": "markdown",
   "metadata": {},
   "source": [
    "**Step 3: Write a function that takes, in the board list object, a marker ('X' or 'O'), and a desired position (number 1-9) and assigns it to the board.**"
   ]
  },
  {
   "cell_type": "code",
   "execution_count": 7,
   "metadata": {
    "collapsed": true
   },
   "outputs": [],
   "source": [
    "#lets players mark X or O on board (position lets us know where we placed symbol)\n",
    "def place_marker(board, marker, position):\n",
    "    board[position] = marker"
   ]
  },
  {
   "cell_type": "markdown",
   "metadata": {},
   "source": [
    "**Step 4: Write a function that takes in a board and a mark (X or O) and then checks to see if that mark has won. **"
   ]
  },
  {
   "cell_type": "code",
   "execution_count": 8,
   "metadata": {
    "collapsed": false
   },
   "outputs": [],
   "source": [
    "#this lets us check if anyone has won the game\n",
    "\n",
    "def win_check(board,mark):\n",
    "    return(\n",
    "        board[7] == mark and board[8] == mark and board[9] == mark or\n",
    "        board[4] == mark and board[5] == mark and board[6] == mark or\n",
    "        board[1] == mark and board[2] == mark and board[3] == mark or\n",
    "        board[7] == mark and board[4] == mark and board[1] == mark or\n",
    "        board[8] == mark and board[5] == mark and board[2] == mark or\n",
    "        board[9] == mark and board[6] == mark and board[3] == mark or\n",
    "        board[7] == mark and board[5] == mark and board[3] == mark or\n",
    "        board[1] == mark and board[5] == mark and board[9] == mark)"
   ]
  },
  {
   "cell_type": "markdown",
   "metadata": {},
   "source": [
    "**Step 5: Write a function that uses the random module to randomly decide which player goes first. You may want to lookup random.randint() Return a string of which player went first.**"
   ]
  },
  {
   "cell_type": "code",
   "execution_count": 9,
   "metadata": {
    "collapsed": true
   },
   "outputs": [],
   "source": [
    "#lets us decide what player is going first 'X' or 'O'\n",
    "\n",
    "import random\n",
    "def choose_first():\n",
    "    if random.randint(0,1) == 0:\n",
    "        return 'Player 2'\n",
    "    else:\n",
    "        return 'Player 1'"
   ]
  },
  {
   "cell_type": "markdown",
   "metadata": {},
   "source": [
    "**Step 6: Write a function that returns a boolean indicating whether a space on the board is freely available.**"
   ]
  },
  {
   "cell_type": "code",
   "execution_count": 10,
   "metadata": {
    "collapsed": false
   },
   "outputs": [],
   "source": [
    "def space_check(board, position):\n",
    "    return board[position] == ' '\n"
   ]
  },
  {
   "cell_type": "markdown",
   "metadata": {},
   "source": [
    "**Step 7: Write a function that checks if the board is full and returns a boolean value. True if full, False otherwise.**"
   ]
  },
  {
   "cell_type": "code",
   "execution_count": 11,
   "metadata": {
    "collapsed": false
   },
   "outputs": [],
   "source": [
    "def full_board_check(board):\n",
    "    for spot in range(1,10):\n",
    "        if space_check(board, spot):\n",
    "            return False\n",
    "    return True"
   ]
  },
  {
   "cell_type": "markdown",
   "metadata": {},
   "source": [
    "**Step 8: Write a function that asks for a player's next position (as a number 1-9) and then uses the function from step 6 to check if its a free position. If it is, then return the position for later use. **"
   ]
  },
  {
   "cell_type": "code",
   "execution_count": 12,
   "metadata": {
    "collapsed": true
   },
   "outputs": [],
   "source": [
    "def player_choice(board):\n",
    "    #dont understand the first part of while\n",
    "    position = ' '\n",
    "    while position not in '1,2,3,4,5,6,7,8,9'.split(',') or not space_check(board, int(position)):\n",
    "        \n",
    "        position = input('Choose your next position (1-9) ')\n",
    "    return int(position)"
   ]
  },
  {
   "cell_type": "markdown",
   "metadata": {},
   "source": [
    "**Step 9: Write a function that asks the player if they want to play again and returns a boolean True if they do want to play again.**"
   ]
  },
  {
   "cell_type": "code",
   "execution_count": 13,
   "metadata": {
    "collapsed": true
   },
   "outputs": [],
   "source": [
    "def replay():\n",
    "    rematch = input('Do you want to play again? (Enter Yes or No): ')\n",
    "    if rematch.lower() == 'yes':\n",
    "        return True\n",
    "    return False\n",
    "    "
   ]
  },
  {
   "cell_type": "markdown",
   "metadata": {
    "collapsed": true
   },
   "source": [
    "**Step 10: Here comes the hard part! Use while loops and the functions you've made to run the game!**"
   ]
  },
  {
   "cell_type": "code",
   "execution_count": 14,
   "metadata": {
    "collapsed": false
   },
   "outputs": [
    {
     "name": "stdout",
     "output_type": "stream",
     "text": [
      "Welcome to Tic Tac Toe!\n",
      "Player 1, choose X or O: O\n",
      "Player 1 will go first.\n",
      "   |   |\n",
      "   |   |  \n",
      "___|___|___\n",
      "   |   | \n",
      "   |   |  \n",
      "___|___|___\n",
      "   |   |\n",
      "   |   |  \n",
      "   |   |\n",
      "Choose your next position (1-9) 5\n",
      "   |   |\n",
      "   |   |  \n",
      "___|___|___\n",
      "   |   | \n",
      "   | O |  \n",
      "___|___|___\n",
      "   |   |\n",
      "   |   |  \n",
      "   |   |\n",
      "Choose your next position (1-9) 1\n",
      "   |   |\n",
      "   |   |  \n",
      "___|___|___\n",
      "   |   | \n",
      "   | O |  \n",
      "___|___|___\n",
      "   |   |\n",
      " X |   |  \n",
      "   |   |\n",
      "Choose your next position (1-9) 4\n",
      "   |   |\n",
      "   |   |  \n",
      "___|___|___\n",
      "   |   | \n",
      " O | O |  \n",
      "___|___|___\n",
      "   |   |\n",
      " X |   |  \n",
      "   |   |\n",
      "Choose your next position (1-9) 6\n",
      "   |   |\n",
      "   |   |  \n",
      "___|___|___\n",
      "   |   | \n",
      " O | O | X\n",
      "___|___|___\n",
      "   |   |\n",
      " X |   |  \n",
      "   |   |\n",
      "Choose your next position (1-9) 3\n",
      "   |   |\n",
      "   |   |  \n",
      "___|___|___\n",
      "   |   | \n",
      " O | O | X\n",
      "___|___|___\n",
      "   |   |\n",
      " X |   | O\n",
      "   |   |\n",
      "Choose your next position (1-9) 7\n",
      "   |   |\n",
      " X |   |  \n",
      "___|___|___\n",
      "   |   | \n",
      " O | O | X\n",
      "___|___|___\n",
      "   |   |\n",
      " X |   | O\n",
      "   |   |\n",
      "Choose your next position (1-9) \n",
      "Choose your next position (1-9) 8\n",
      "   |   |\n",
      " X | O |  \n",
      "___|___|___\n",
      "   |   | \n",
      " O | O | X\n",
      "___|___|___\n",
      "   |   |\n",
      " X |   | O\n",
      "   |   |\n",
      "Choose your next position (1-9) 2\n",
      "   |   |\n",
      " X | O |  \n",
      "___|___|___\n",
      "   |   | \n",
      " O | O | X\n",
      "___|___|___\n",
      "   |   |\n",
      " X | X | O\n",
      "   |   |\n",
      "Choose your next position (1-9) 9\n",
      "   |   |\n",
      " X | O | O\n",
      "___|___|___\n",
      "   |   | \n",
      " O | O | X\n",
      "___|___|___\n",
      "   |   |\n",
      " X | X | O\n",
      "   |   |\n",
      "ITS A DRAW!\n",
      "Do you want to play again? (Enter Yes or No): no\n"
     ]
    }
   ],
   "source": [
    "print('Welcome to Tic Tac Toe!')\n",
    "\n",
    "while True:\n",
    "    #Reset the board\n",
    "    theBoard = [' '] * 10\n",
    "    player1_marker, player2_marker = player_input()\n",
    "    turn = choose_first()\n",
    "    print(turn + ' will go first.')\n",
    "    game_on = True\n",
    "\n",
    "    while game_on:\n",
    "        if turn == 'Player 1':\n",
    "            #player1's turns\n",
    "            display_board(theBoard)\n",
    "            position = player_choice(theBoard)\n",
    "            place_marker(theBoard, player1_marker, position)\n",
    "            if win_check(theBoard, player1_marker):\n",
    "                display_board(theBoard)\n",
    "                print('Congrats! You won the game, Player 1 :)')\n",
    "                game_on = False\n",
    "            else:\n",
    "                if full_board_check(theBoard):\n",
    "                    display_board(theBoard)\n",
    "                    print('ITS A DRAW!')\n",
    "                    break\n",
    "                else:\n",
    "                    turn = 'Player 2'\n",
    "        \n",
    "        else:\n",
    "            #Player2's turn\n",
    "            display_board(theBoard)\n",
    "            position = player_choice(theBoard)\n",
    "            place_marker(theBoard, player2_marker, position)\n",
    "            if win_check(theBoard, player2_marker):\n",
    "                display_board(theBoard)\n",
    "                print('Congrats! You won the game, Player 2 :)')\n",
    "                game_on = False\n",
    "            else:\n",
    "                if full_board_check(theBoard):\n",
    "                    display_board(theBoard)\n",
    "                    print('ITS A DRAW!')\n",
    "                    break\n",
    "                else:\n",
    "                    turn = 'Player 1'\n",
    "    if not replay():\n",
    "        break\n",
    "                        \n",
    "\n"
   ]
  },
  {
   "cell_type": "markdown",
   "metadata": {
    "collapsed": true
   },
   "source": [
    "## Good Job!"
   ]
  }
 ],
 "metadata": {
  "kernelspec": {
   "display_name": "Python 3",
   "language": "python",
   "name": "python3"
  },
  "language_info": {
   "codemirror_mode": {
    "name": "ipython",
    "version": 3
   },
   "file_extension": ".py",
   "mimetype": "text/x-python",
   "name": "python",
   "nbconvert_exporter": "python",
   "pygments_lexer": "ipython3",
   "version": "3.6.0"
  }
 },
 "nbformat": 4,
 "nbformat_minor": 0
}
