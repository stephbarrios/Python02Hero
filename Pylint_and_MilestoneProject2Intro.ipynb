{
 "cells": [
  {
   "cell_type": "markdown",
   "metadata": {},
   "source": [
    "** Pylint Overview and Milestone Project 2**"
   ]
  },
  {
   "cell_type": "markdown",
   "metadata": {},
   "source": [
    "Unit Testing - lets you make changes or update your code, you can run your test files to make sure previous code still runs as expected\n",
    "\n",
    "There are several testings tools but we focus on two libraries:\n",
    "- Pylint: looks at code and reports back possible issues\n",
    "- unittest: builtin library that allows you to test your own programs and check you get desired outputs\n",
    "\n",
    "Python has a set of stylent convention rules: PEP 8"
   ]
  },
  {
   "cell_type": "code",
   "execution_count": 1,
   "metadata": {
    "collapsed": true
   },
   "outputs": [],
   "source": [
    "#Will do this with Atom, separate files for this lecture"
   ]
  },
  {
   "cell_type": "code",
   "execution_count": null,
   "metadata": {
    "collapsed": true
   },
   "outputs": [],
   "source": []
  },
  {
   "cell_type": "markdown",
   "metadata": {},
   "source": [
    "** Milestone Project 2 **"
   ]
  },
  {
   "cell_type": "markdown",
   "metadata": {},
   "source": [
    "- A computer dealer\n",
    "- Human player\n",
    "\n",
    "* Start with a normal deck of cards (create a representation of a deck in Python using OOP)\n",
    "* Player places a bet (need attribute for bankroll like a bank account)\n",
    "* Player starts with 2 cards face up; dealer starts with 1 card face up and 1 face down\n",
    "\n",
    "* Player goes first (goal of player is to get closer to 21 than the dealer does)\n",
    "* 2 possible actions: hit (receive another card) or stay (stop receiving cards) - if sum over 21, bust and lose the bet (bankroll goes down)\n",
    "* After player turn: if player still under 21, dealer hit until they beat the player or the dealer busts (over 21)\n",
    "* If computer beats dealer: computer sum higher than player sum AND still under 21\n",
    "* Dealer keeps going until sum is higher than player sum or until they bust. If dealer sum over 21, then player wins (bankroll for player doubles bet money)\n",
    "\n",
    "* Special rules: K,Q, and J = value of 10; Aces can count as either 1 or 11, whichever the player wants to pick"
   ]
  },
  {
   "cell_type": "code",
   "execution_count": null,
   "metadata": {
    "collapsed": true
   },
   "outputs": [],
   "source": []
  }
 ],
 "metadata": {
  "kernelspec": {
   "display_name": "Python 3",
   "language": "python",
   "name": "python3"
  },
  "language_info": {
   "codemirror_mode": {
    "name": "ipython",
    "version": 3
   },
   "file_extension": ".py",
   "mimetype": "text/x-python",
   "name": "python",
   "nbconvert_exporter": "python",
   "pygments_lexer": "ipython3",
   "version": "3.6.0"
  }
 },
 "nbformat": 4,
 "nbformat_minor": 2
}
