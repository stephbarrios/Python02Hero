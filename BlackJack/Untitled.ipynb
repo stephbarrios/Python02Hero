{
 "cells": [
  {
   "cell_type": "code",
   "execution_count": 9,
   "metadata": {},
   "outputs": [],
   "source": [
    "def hitOrStop():\n",
    "        card_total = player_cardOne + player_cardTwo\n",
    "        \n",
    "        while True:\n",
    "            print('Your total hand is {}'.format(card_total))\n",
    "            player_turn = input('Would you like to hit or stop? 1 for hit, 2 for stop: ')\n",
    "\n",
    "            if int(player_turn) == 1:\n",
    "                card_total += newCard\n",
    "            elif int(player_turn) == 2:\n",
    "                print('You chose to stop - the dealer will now play.')\n",
    "                break"
   ]
  },
  {
   "cell_type": "code",
   "execution_count": null,
   "metadata": {},
   "outputs": [],
   "source": []
  },
  {
   "cell_type": "code",
   "execution_count": null,
   "metadata": {},
   "outputs": [],
   "source": []
  }
 ],
 "metadata": {
  "kernelspec": {
   "display_name": "Python 3",
   "language": "python",
   "name": "python3"
  },
  "language_info": {
   "codemirror_mode": {
    "name": "ipython",
    "version": 3
   },
   "file_extension": ".py",
   "mimetype": "text/x-python",
   "name": "python",
   "nbconvert_exporter": "python",
   "pygments_lexer": "ipython3",
   "version": "3.6.4"
  }
 },
 "nbformat": 4,
 "nbformat_minor": 2
}
