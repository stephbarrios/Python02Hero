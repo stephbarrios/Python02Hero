{
 "cells": [
  {
   "cell_type": "markdown",
   "metadata": {},
   "source": [
    "**PIP Install and PyPI Notes**\n",
    "\n",
    "PyPI = reppo for opensource 3rd party Python packages\n",
    "*similar to RubyGems in Ruby and NPM for Node.js\n",
    "\n",
    "We can use 'pip install' at command line to install these packages\n",
    "*how to download and install external packages"
   ]
  },
  {
   "cell_type": "code",
   "execution_count": 4,
   "metadata": {},
   "outputs": [
    {
     "ename": "SyntaxError",
     "evalue": "(unicode error) 'unicodeescape' codec can't decode bytes in position 99-100: truncated \\UXXXXXXXX escape (<ipython-input-4-cf94d82aae0b>, line 31)",
     "output_type": "error",
     "traceback": [
      "\u001b[1;36m  File \u001b[1;32m\"<ipython-input-4-cf94d82aae0b>\"\u001b[1;36m, line \u001b[1;32m31\u001b[0m\n\u001b[1;33m    '''\u001b[0m\n\u001b[1;37m      ^\u001b[0m\n\u001b[1;31mSyntaxError\u001b[0m\u001b[1;31m:\u001b[0m (unicode error) 'unicodeescape' codec can't decode bytes in position 99-100: truncated \\UXXXXXXXX escape\n"
     ]
    }
   ],
   "source": [
    "'''\n",
    "Microsoft Windows [Version 10.0.16299.64]\n",
    "(c) 2017 Microsoft Corporation. All rights reserved.\n",
    "\n",
    "C:\\Users\\stbarrio>python\n",
    "Python 3.6.5 (v3.6.5:f59c0932b4, Mar 28 2018, 16:07:46) [MSC v.1900 32 bit (Intel)] on win32\n",
    "Type \"help\", \"copyright\", \"credits\" or \"license\" for more information.\n",
    ">>> from colorama import init\n",
    ">>> init()\n",
    ">>> from colorama import Fore\n",
    ">>> print(Fore.RED + \"some red text\")\n",
    "some red text\n",
    ">>> print(FORE.GREEN + 'switch to green')\n",
    "Traceback (most recent call last):\n",
    "  File \"<stdin>\", line 1, in <module>\n",
    "NameError: name 'FORE' is not defined\n",
    ">>> print(Fore.GREEN + \"green textyz')\n",
    "  File \"<stdin>\", line 1\n",
    "    print(Fore.GREEN + \"green textyz')\n",
    "                                     ^\n",
    "SyntaxError: EOL while scanning string literal\n",
    ">>> print(Fore.GREEN + \"greenz\n",
    "  File \"<stdin>\", line 1\n",
    "    print(Fore.GREEN + \"greenz\n",
    "                             ^\n",
    "SyntaxError: EOL while scanning string literal\n",
    ">>> print(Fore.GREEN + \"greenz\")\n",
    "greenz\n",
    ">>>\n",
    "          \n",
    "'''"
   ]
  },
  {
   "cell_type": "markdown",
   "metadata": {},
   "source": [
    "** Modules and Packages ** \n",
    "- Modules = .py scripts that you call in another .py script\n",
    "- Packages = collection of modules"
   ]
  },
  {
   "cell_type": "code",
   "execution_count": 5,
   "metadata": {},
   "outputs": [],
   "source": [
    "#get text editor"
   ]
  },
  {
   "cell_type": "code",
   "execution_count": null,
   "metadata": {},
   "outputs": [],
   "source": []
  }
 ],
 "metadata": {
  "kernelspec": {
   "display_name": "Python 3",
   "language": "python",
   "name": "python3"
  },
  "language_info": {
   "codemirror_mode": {
    "name": "ipython",
    "version": 3
   },
   "file_extension": ".py",
   "mimetype": "text/x-python",
   "name": "python",
   "nbconvert_exporter": "python",
   "pygments_lexer": "ipython3",
   "version": "3.6.4"
  }
 },
 "nbformat": 4,
 "nbformat_minor": 2
}
